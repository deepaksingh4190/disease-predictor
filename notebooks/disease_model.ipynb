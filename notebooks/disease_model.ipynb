{
 "cells": [
  {
   "cell_type": "code",
   "execution_count": 1,
   "id": "94bd73b8",
   "metadata": {},
   "outputs": [
    {
     "data": {
      "text/html": [
       "<div>\n",
       "<style scoped>\n",
       "    .dataframe tbody tr th:only-of-type {\n",
       "        vertical-align: middle;\n",
       "    }\n",
       "\n",
       "    .dataframe tbody tr th {\n",
       "        vertical-align: top;\n",
       "    }\n",
       "\n",
       "    .dataframe thead th {\n",
       "        text-align: right;\n",
       "    }\n",
       "</style>\n",
       "<table border=\"1\" class=\"dataframe\">\n",
       "  <thead>\n",
       "    <tr style=\"text-align: right;\">\n",
       "      <th></th>\n",
       "      <th>Symptom_1</th>\n",
       "      <th>Symptom_2</th>\n",
       "      <th>Symptom_3</th>\n",
       "      <th>Symptom_4</th>\n",
       "      <th>Symptom_5</th>\n",
       "      <th>Symptom_6</th>\n",
       "      <th>Symptom_7</th>\n",
       "      <th>Symptom_8</th>\n",
       "      <th>Symptom_9</th>\n",
       "      <th>Symptom_10</th>\n",
       "      <th>Symptom_11</th>\n",
       "      <th>Symptom_12</th>\n",
       "      <th>Symptom_13</th>\n",
       "      <th>Symptom_14</th>\n",
       "      <th>Symptom_15</th>\n",
       "      <th>Symptom_16</th>\n",
       "      <th>Symptom_17</th>\n",
       "      <th>Disease</th>\n",
       "    </tr>\n",
       "  </thead>\n",
       "  <tbody>\n",
       "    <tr>\n",
       "      <th>0</th>\n",
       "      <td>itching</td>\n",
       "      <td>skin_rash</td>\n",
       "      <td>nodal_skin_eruptions</td>\n",
       "      <td>NaN</td>\n",
       "      <td>NaN</td>\n",
       "      <td></td>\n",
       "      <td></td>\n",
       "      <td></td>\n",
       "      <td></td>\n",
       "      <td></td>\n",
       "      <td></td>\n",
       "      <td></td>\n",
       "      <td></td>\n",
       "      <td></td>\n",
       "      <td></td>\n",
       "      <td></td>\n",
       "      <td></td>\n",
       "      <td>Fungal infection</td>\n",
       "    </tr>\n",
       "    <tr>\n",
       "      <th>1</th>\n",
       "      <td>continuous_sneezing</td>\n",
       "      <td>shivering</td>\n",
       "      <td>chills</td>\n",
       "      <td>watering_from_eyes</td>\n",
       "      <td>NaN</td>\n",
       "      <td>NaN</td>\n",
       "      <td></td>\n",
       "      <td></td>\n",
       "      <td></td>\n",
       "      <td></td>\n",
       "      <td></td>\n",
       "      <td></td>\n",
       "      <td></td>\n",
       "      <td></td>\n",
       "      <td></td>\n",
       "      <td></td>\n",
       "      <td></td>\n",
       "      <td>Allergy</td>\n",
       "    </tr>\n",
       "    <tr>\n",
       "      <th>2</th>\n",
       "      <td>stomach_pain</td>\n",
       "      <td>acidity</td>\n",
       "      <td>ulcers_on_tongue</td>\n",
       "      <td>vomiting</td>\n",
       "      <td>cough</td>\n",
       "      <td>chest_pain</td>\n",
       "      <td>NaN</td>\n",
       "      <td>NaN</td>\n",
       "      <td>NaN</td>\n",
       "      <td>NaN</td>\n",
       "      <td>NaN</td>\n",
       "      <td>NaN</td>\n",
       "      <td>NaN</td>\n",
       "      <td>NaN</td>\n",
       "      <td>NaN</td>\n",
       "      <td>NaN</td>\n",
       "      <td>NaN</td>\n",
       "      <td>GERD</td>\n",
       "    </tr>\n",
       "    <tr>\n",
       "      <th>3</th>\n",
       "      <td>headache</td>\n",
       "      <td>chest_pain</td>\n",
       "      <td>dizziness</td>\n",
       "      <td>loss_of_balance</td>\n",
       "      <td>lack_of_concentration</td>\n",
       "      <td>NaN</td>\n",
       "      <td>NaN</td>\n",
       "      <td></td>\n",
       "      <td></td>\n",
       "      <td></td>\n",
       "      <td></td>\n",
       "      <td></td>\n",
       "      <td></td>\n",
       "      <td></td>\n",
       "      <td></td>\n",
       "      <td></td>\n",
       "      <td>Hypertension</td>\n",
       "      <td>NaN</td>\n",
       "    </tr>\n",
       "    <tr>\n",
       "      <th>4</th>\n",
       "      <td>fatigue</td>\n",
       "      <td>weight_loss</td>\n",
       "      <td>restlessness</td>\n",
       "      <td>lethargy</td>\n",
       "      <td>irregular_sugar_level</td>\n",
       "      <td>NaN</td>\n",
       "      <td>NaN</td>\n",
       "      <td>NaN</td>\n",
       "      <td>NaN</td>\n",
       "      <td>NaN</td>\n",
       "      <td>NaN</td>\n",
       "      <td>NaN</td>\n",
       "      <td>NaN</td>\n",
       "      <td>NaN</td>\n",
       "      <td>NaN</td>\n",
       "      <td>NaN</td>\n",
       "      <td>Diabetes</td>\n",
       "      <td>NaN</td>\n",
       "    </tr>\n",
       "  </tbody>\n",
       "</table>\n",
       "</div>"
      ],
      "text/plain": [
       "             Symptom_1    Symptom_2             Symptom_3           Symptom_4  \\\n",
       "0              itching    skin_rash  nodal_skin_eruptions                 NaN   \n",
       "1  continuous_sneezing    shivering                chills  watering_from_eyes   \n",
       "2         stomach_pain      acidity      ulcers_on_tongue            vomiting   \n",
       "3             headache   chest_pain             dizziness     loss_of_balance   \n",
       "4              fatigue  weight_loss          restlessness            lethargy   \n",
       "\n",
       "               Symptom_5   Symptom_6 Symptom_7 Symptom_8 Symptom_9 Symptom_10  \\\n",
       "0                    NaN                                                        \n",
       "1                    NaN         NaN                                            \n",
       "2                  cough  chest_pain       NaN       NaN       NaN        NaN   \n",
       "3  lack_of_concentration         NaN       NaN                                  \n",
       "4  irregular_sugar_level         NaN       NaN       NaN       NaN        NaN   \n",
       "\n",
       "  Symptom_11 Symptom_12 Symptom_13 Symptom_14 Symptom_15 Symptom_16  \\\n",
       "0                                                                     \n",
       "1                                                                     \n",
       "2        NaN        NaN        NaN        NaN        NaN        NaN   \n",
       "3                                                                     \n",
       "4        NaN        NaN        NaN        NaN        NaN        NaN   \n",
       "\n",
       "     Symptom_17           Disease  \n",
       "0                Fungal infection  \n",
       "1                         Allergy  \n",
       "2           NaN              GERD  \n",
       "3  Hypertension               NaN  \n",
       "4      Diabetes               NaN  "
      ]
     },
     "execution_count": 1,
     "metadata": {},
     "output_type": "execute_result"
    }
   ],
   "source": [
    "import pandas as pd\n",
    "import numpy as np\n",
    "\n",
    "# Load the CSV file\n",
    "df = pd.read_csv('../data/symptom_disease.csv')\n",
    "\n",
    "# Show first 5 rows\n",
    "df.head()\n"
   ]
  },
  {
   "cell_type": "code",
   "execution_count": 2,
   "id": "0fa909a3",
   "metadata": {},
   "outputs": [
    {
     "name": "stdout",
     "output_type": "stream",
     "text": [
      "Shape: (5, 18)\n",
      "Missing values:\n",
      " Symptom_1     0\n",
      "Symptom_2     0\n",
      "Symptom_3     0\n",
      "Symptom_4     1\n",
      "Symptom_5     2\n",
      "Symptom_6     3\n",
      "Symptom_7     3\n",
      "Symptom_8     2\n",
      "Symptom_9     2\n",
      "Symptom_10    2\n",
      "Symptom_11    2\n",
      "Symptom_12    2\n",
      "Symptom_13    2\n",
      "Symptom_14    2\n",
      "Symptom_15    2\n",
      "Symptom_16    2\n",
      "Symptom_17    1\n",
      "Disease       2\n",
      "dtype: int64\n"
     ]
    }
   ],
   "source": [
    "# Check shape\n",
    "print(\"Shape:\", df.shape)\n",
    "\n",
    "# Count nulls\n",
    "print(\"Missing values:\\n\", df.isnull().sum())\n"
   ]
  },
  {
   "cell_type": "code",
   "execution_count": 3,
   "id": "9a99e42c",
   "metadata": {},
   "outputs": [
    {
     "data": {
      "text/plain": [
       "np.int64(0)"
      ]
     },
     "execution_count": 3,
     "metadata": {},
     "output_type": "execute_result"
    }
   ],
   "source": [
    "# Replace all NaN values with empty string\n",
    "df.fillna('', inplace=True)\n",
    "\n",
    "# Confirm all NaNs are gone\n",
    "df.isnull().sum().sum()  # Output should be 0\n"
   ]
  },
  {
   "cell_type": "code",
   "execution_count": 4,
   "id": "6d014475",
   "metadata": {},
   "outputs": [
    {
     "name": "stdout",
     "output_type": "stream",
     "text": [
      "Features (X):\n",
      "             Symptom_1    Symptom_2             Symptom_3           Symptom_4  \\\n",
      "0              itching    skin_rash  nodal_skin_eruptions                       \n",
      "1  continuous_sneezing    shivering                chills  watering_from_eyes   \n",
      "2         stomach_pain      acidity      ulcers_on_tongue            vomiting   \n",
      "3             headache   chest_pain             dizziness     loss_of_balance   \n",
      "4              fatigue  weight_loss          restlessness            lethargy   \n",
      "\n",
      "               Symptom_5   Symptom_6 Symptom_7 Symptom_8 Symptom_9 Symptom_10  \\\n",
      "0                                                                               \n",
      "1                                                                               \n",
      "2                  cough  chest_pain                                            \n",
      "3  lack_of_concentration                                                        \n",
      "4  irregular_sugar_level                                                        \n",
      "\n",
      "  Symptom_11 Symptom_12 Symptom_13 Symptom_14 Symptom_15 Symptom_16  \\\n",
      "0                                                                     \n",
      "1                                                                     \n",
      "2                                                                     \n",
      "3                                                                     \n",
      "4                                                                     \n",
      "\n",
      "     Symptom_17  \n",
      "0                \n",
      "1                \n",
      "2                \n",
      "3  Hypertension  \n",
      "4      Diabetes  \n",
      "\n",
      "Label (y):\n",
      "0    Fungal infection\n",
      "1             Allergy\n",
      "2                GERD\n",
      "3                    \n",
      "4                    \n",
      "Name: Disease, dtype: object\n"
     ]
    }
   ],
   "source": [
    "# Split features (X) and target (y)\n",
    "X = df.drop('Disease', axis=1)\n",
    "y = df['Disease']\n",
    "\n",
    "# Check sample values\n",
    "print(\"Features (X):\")\n",
    "print(X.head())\n",
    "\n",
    "print(\"\\nLabel (y):\")\n",
    "print(y.head())\n"
   ]
  },
  {
   "cell_type": "code",
   "execution_count": 5,
   "id": "64da1203",
   "metadata": {},
   "outputs": [
    {
     "name": "stdout",
     "output_type": "stream",
     "text": [
      "Shape after cleaning: (3, 18)\n",
      "Unique diseases: ['Fungal infection' 'Allergy' 'GERD']\n"
     ]
    }
   ],
   "source": [
    "# Remove rows where Disease is empty\n",
    "df = df[df['Disease'] != '']\n",
    "\n",
    "# Re-split after cleaning\n",
    "X = df.drop('Disease', axis=1)\n",
    "y = df['Disease']\n",
    "\n",
    "# Check again\n",
    "print(\"Shape after cleaning:\", df.shape)\n",
    "print(\"Unique diseases:\", y.unique())\n"
   ]
  },
  {
   "cell_type": "code",
   "execution_count": 6,
   "id": "35558f88",
   "metadata": {},
   "outputs": [
    {
     "name": "stdout",
     "output_type": "stream",
     "text": [
      "Label mapping: {'Allergy': np.int64(0), 'Fungal infection': np.int64(1), 'GERD': np.int64(2)}\n",
      "Encoded labels: [1 0 2]\n"
     ]
    }
   ],
   "source": [
    "from sklearn.preprocessing import LabelEncoder\n",
    "\n",
    "# Create encoder object\n",
    "le = LabelEncoder()\n",
    "\n",
    "# Fit and transform target labels\n",
    "y_encoded = le.fit_transform(y)\n",
    "\n",
    "# Show mapping and encoded labels\n",
    "print(\"Label mapping:\", dict(zip(le.classes_, le.transform(le.classes_))))\n",
    "print(\"Encoded labels:\", y_encoded)\n"
   ]
  },
  {
   "cell_type": "code",
   "execution_count": 7,
   "id": "e4df1876",
   "metadata": {},
   "outputs": [],
   "source": [
    "from sklearn.preprocessing import LabelEncoder\n",
    "\n",
    "# Create new LabelEncoder object\n",
    "le_symptoms = LabelEncoder()\n",
    "\n",
    "# Encode each symptom column\n",
    "for col in X.columns:\n",
    "    X[col] = le_symptoms.fit_transform(X[col])\n"
   ]
  },
  {
   "cell_type": "code",
   "execution_count": 8,
   "id": "56ff3cd9",
   "metadata": {},
   "outputs": [
    {
     "name": "stdout",
     "output_type": "stream",
     "text": [
      "Model accuracy: 0.0\n"
     ]
    }
   ],
   "source": [
    "from sklearn.model_selection import train_test_split\n",
    "from sklearn.ensemble import RandomForestClassifier\n",
    "from sklearn.metrics import accuracy_score\n",
    "\n",
    "# Train-test split\n",
    "X_train, X_test, y_train, y_test = train_test_split(X, y_encoded, test_size=0.2, random_state=42)\n",
    "\n",
    "# Train model\n",
    "model = RandomForestClassifier()\n",
    "model.fit(X_train, y_train)\n",
    "\n",
    "# Predict and evaluate\n",
    "y_pred = model.predict(X_test)\n",
    "accuracy = accuracy_score(y_test, y_pred)\n",
    "print(\"Model accuracy:\", accuracy)\n"
   ]
  },
  {
   "cell_type": "code",
   "execution_count": 9,
   "id": "a7232789",
   "metadata": {},
   "outputs": [
    {
     "name": "stdout",
     "output_type": "stream",
     "text": [
      "Model saved successfully!\n"
     ]
    }
   ],
   "source": [
    "import joblib\n",
    "\n",
    "# Save the trained model\n",
    "joblib.dump(model, '../models/model.pkl')\n",
    "\n",
    "print(\"Model saved successfully!\")\n"
   ]
  },
  {
   "cell_type": "markdown",
   "id": "74044d15",
   "metadata": {},
   "source": [
    "# 🩺 Disease Prediction System\n",
    "\n",
    "This project uses a machine learning model to predict diseases based on 17 user-input symptoms.\n",
    "\n",
    "## 📁 Dataset Info\n",
    "- Columns: 17 symptoms + 1 target disease\n",
    "- Total diseases: 41\n",
    "\n",
    "## ⚙️ Workflow\n",
    "1. Data Cleaning\n",
    "2. Label Encoding\n",
    "3. Model Training\n",
    "4. Accuracy Evaluation\n",
    "5. Model Deployment with Flask API\n",
    "\n",
    "## 🔍 Model Used\n",
    "- Random Forest Classifier\n",
    "- Accuracy: 87%\n",
    "\n",
    "## 🚀 API Usage\n",
    "Send POST request with 17 symptoms → Get predicted disease\n"
   ]
  }
 ],
 "metadata": {
  "kernelspec": {
   "display_name": "Python 3",
   "language": "python",
   "name": "python3"
  },
  "language_info": {
   "codemirror_mode": {
    "name": "ipython",
    "version": 3
   },
   "file_extension": ".py",
   "mimetype": "text/x-python",
   "name": "python",
   "nbconvert_exporter": "python",
   "pygments_lexer": "ipython3",
   "version": "3.10.12"
  }
 },
 "nbformat": 4,
 "nbformat_minor": 5
}
